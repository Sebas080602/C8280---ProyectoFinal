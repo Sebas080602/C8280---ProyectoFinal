{
  "nbformat": 4,
  "nbformat_minor": 0,
  "metadata": {
    "colab": {
      "provenance": []
    },
    "kernelspec": {
      "name": "python3",
      "display_name": "Python 3"
    },
    "language_info": {
      "name": "python"
    }
  },
  "cells": [
    {
      "cell_type": "code",
      "execution_count": 2,
      "metadata": {
        "colab": {
          "base_uri": "https://localhost:8080/"
        },
        "id": "qzEhiJiGzWND",
        "outputId": "320d4fc6-4fdc-44cd-9cf7-37d33d74ebe6"
      },
      "outputs": [
        {
          "output_type": "stream",
          "name": "stderr",
          "text": [
            "/usr/local/lib/python3.10/dist-packages/sklearn/linear_model/_logistic.py:458: ConvergenceWarning: lbfgs failed to converge (status=1):\n",
            "STOP: TOTAL NO. of ITERATIONS REACHED LIMIT.\n",
            "\n",
            "Increase the number of iterations (max_iter) or scale the data as shown in:\n",
            "    https://scikit-learn.org/stable/modules/preprocessing.html\n",
            "Please also refer to the documentation for alternative solver options:\n",
            "    https://scikit-learn.org/stable/modules/linear_model.html#logistic-regression\n",
            "  n_iter_i = _check_optimize_result(\n"
          ]
        },
        {
          "output_type": "stream",
          "name": "stdout",
          "text": [
            "Precisión del modelo de línea base (Regresión Logística): 0.9722222222222222\n",
            "Precisión del modelo de Bosques Aleatorios: 0.9722222222222222\n",
            "Precisión del modelo de AdaBoost: 0.21944444444444444\n",
            "Precisión del modelo de XGBoost: 0.9694444444444444\n",
            "Comparación con la línea base (Regresión Logística):\n",
            "Diferencia de precisión con Bosques Aleatorios: 0.0\n",
            "Diferencia de precisión con AdaBoost: -0.7527777777777778\n",
            "Diferencia de precisión con XGBoost: -0.002777777777777768\n"
          ]
        }
      ],
      "source": [
        "# Parte respecto a los modelos (AdaBoost, XGBoost, Bosques Aleatorios y Regresión Logística)\n",
        "\n",
        "# Importamos las bibliotecas necesarias\n",
        "from sklearn.datasets import load_digits\n",
        "from sklearn.linear_model import LogisticRegression\n",
        "from sklearn.ensemble import RandomForestClassifier, AdaBoostClassifier\n",
        "from xgboost import XGBClassifier\n",
        "from sklearn.model_selection import train_test_split\n",
        "from sklearn.metrics import accuracy_score\n",
        "\n",
        "# Cargamos el conjunto de datos de digitos escritos a mano\n",
        "digits = load_digits()\n",
        "X = digits.data\n",
        "y = digits.target\n",
        "\n",
        "# Dividimos el conjunto de datos en entrenamiento y prueba\n",
        "X_train, X_test, y_train, y_test = train_test_split(X, y, test_size=0.2, random_state=42)\n",
        "\n",
        "# Creamos y ajustamos el modelo de línea base (Regresión Logística) con un número máximo de iteraciones mayor\n",
        "model_baseline = LogisticRegression(max_iter=1000)\n",
        "model_baseline.fit(X_train, y_train)\n",
        "\n",
        "# Predecimos con el modelo de línea base\n",
        "y_pred_baseline = model_baseline.predict(X_test)\n",
        "\n",
        "# Calculamos la precisión del modelo de línea base\n",
        "accuracy_baseline = accuracy_score(y_test, y_pred_baseline)\n",
        "print(\"Precisión del modelo de línea base (Regresión Logística):\", accuracy_baseline)\n",
        "\n",
        "# Creamos y ajustamos el modelo de Bosques Aleatorios\n",
        "model_random_forest = RandomForestClassifier()\n",
        "model_random_forest.fit(X_train, y_train)\n",
        "\n",
        "# Predecimos con el modelo de Bosques Aleatorios\n",
        "y_pred_random_forest = model_random_forest.predict(X_test)\n",
        "\n",
        "# Creamos y ajustamos el modelo de AdaBoost\n",
        "model_adaboost = AdaBoostClassifier()\n",
        "model_adaboost.fit(X_train, y_train)\n",
        "\n",
        "# Predecimos con el modelo de AdaBoost\n",
        "y_pred_adaboost = model_adaboost.predict(X_test)\n",
        "\n",
        "# Creamos y ajustamos el modelo de XGBoost\n",
        "model_xgboost = XGBClassifier()\n",
        "model_xgboost.fit(X_train, y_train)\n",
        "\n",
        "# Predecimos con el modelo de XGBoost\n",
        "y_pred_xgboost = model_xgboost.predict(X_test)\n",
        "\n",
        "# Calculamos la precisión del modelo de Bosques Aleatorios\n",
        "accuracy_random_forest = accuracy_score(y_test, y_pred_random_forest)\n",
        "print(\"Precisión del modelo de Bosques Aleatorios:\", accuracy_random_forest)\n",
        "\n",
        "# Calculamos la precisión del modelo de AdaBoost\n",
        "accuracy_adaboost = accuracy_score(y_test, y_pred_adaboost)\n",
        "print(\"Precisión del modelo de AdaBoost:\", accuracy_adaboost)\n",
        "\n",
        "# Calculamos la precisión del modelo de XGBoost\n",
        "accuracy_xgboost = accuracy_score(y_test, y_pred_xgboost)\n",
        "print(\"Precisión del modelo de XGBoost:\", accuracy_xgboost)\n",
        "\n",
        "# Comparación con la línea base\n",
        "print(\"Comparación con la línea base (Regresión Logística):\")\n",
        "print(\"Diferencia de precisión con Bosques Aleatorios:\", accuracy_random_forest - accuracy_baseline)\n",
        "print(\"Diferencia de precisión con AdaBoost:\", accuracy_adaboost - accuracy_baseline)\n",
        "print(\"Diferencia de precisión con XGBoost:\", accuracy_xgboost - accuracy_baseline)\n"
      ]
    }
  ]
}