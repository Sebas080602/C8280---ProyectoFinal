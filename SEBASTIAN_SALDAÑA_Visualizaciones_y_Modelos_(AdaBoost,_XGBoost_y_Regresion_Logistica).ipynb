{
  "nbformat": 4,
  "nbformat_minor": 0,
  "metadata": {
    "colab": {
      "provenance": []
    },
    "kernelspec": {
      "name": "python3",
      "display_name": "Python 3"
    },
    "language_info": {
      "name": "python"
    }
  },
  "cells": [
    {
      "cell_type": "markdown",
      "source": [
        "Proyecto Final Primera Parte - Visualizaciones y Modelos (AdaBoost, XGBoost y Regresion Logistica)\n",
        "ALUMNO: SEBASTIAN SALDAÑA"
      ],
      "metadata": {
        "id": "KjC_Qzo54zPD"
      }
    },
    {
      "cell_type": "code",
      "execution_count": 1,
      "metadata": {
        "colab": {
          "base_uri": "https://localhost:8080/"
        },
        "id": "S4gzl9dmzRpN",
        "outputId": "0f49103e-7a80-4e11-97df-3798d84c34dd"
      },
      "outputs": [
        {
          "output_type": "stream",
          "name": "stdout",
          "text": [
            "Requirement already satisfied: matplotlib in /usr/local/lib/python3.10/dist-packages (3.7.1)\n",
            "Requirement already satisfied: contourpy>=1.0.1 in /usr/local/lib/python3.10/dist-packages (from matplotlib) (1.1.0)\n",
            "Requirement already satisfied: cycler>=0.10 in /usr/local/lib/python3.10/dist-packages (from matplotlib) (0.11.0)\n",
            "Requirement already satisfied: fonttools>=4.22.0 in /usr/local/lib/python3.10/dist-packages (from matplotlib) (4.40.0)\n",
            "Requirement already satisfied: kiwisolver>=1.0.1 in /usr/local/lib/python3.10/dist-packages (from matplotlib) (1.4.4)\n",
            "Requirement already satisfied: numpy>=1.20 in /usr/local/lib/python3.10/dist-packages (from matplotlib) (1.22.4)\n",
            "Requirement already satisfied: packaging>=20.0 in /usr/local/lib/python3.10/dist-packages (from matplotlib) (23.1)\n",
            "Requirement already satisfied: pillow>=6.2.0 in /usr/local/lib/python3.10/dist-packages (from matplotlib) (8.4.0)\n",
            "Requirement already satisfied: pyparsing>=2.3.1 in /usr/local/lib/python3.10/dist-packages (from matplotlib) (3.1.0)\n",
            "Requirement already satisfied: python-dateutil>=2.7 in /usr/local/lib/python3.10/dist-packages (from matplotlib) (2.8.2)\n",
            "Requirement already satisfied: six>=1.5 in /usr/local/lib/python3.10/dist-packages (from python-dateutil>=2.7->matplotlib) (1.16.0)\n"
          ]
        }
      ],
      "source": [
        "pip install matplotlib"
      ]
    },
    {
      "cell_type": "code",
      "source": [
        "# Visualizaciones\n",
        "\n",
        "import matplotlib.pyplot as plt\n",
        "from sklearn.datasets import load_digits\n",
        "\n",
        "# Cargamos el conjunto de datos de digitos escritos a mano\n",
        "digits = load_digits()\n",
        "X = digits.data\n",
        "y = digits.target\n",
        "\n",
        "# Visualizamos las primeras 10 imagenes\n",
        "fig, axes = plt.subplots(nrows=2, ncols=5, figsize=(10, 4))\n",
        "\n",
        "for i, ax in enumerate(axes.flat):\n",
        "    ax.imshow(X[i].reshape(8, 8), cmap='gray')\n",
        "    ax.set_title(f'Etiqueta: {y[i]}')\n",
        "    ax.axis('off')\n",
        "\n",
        "plt.tight_layout()\n",
        "plt.show()"
      ],
      "metadata": {
        "colab": {
          "base_uri": "https://localhost:8080/",
          "height": 410
        },
        "id": "hVMaXKxB0R3A",
        "outputId": "be267020-46a7-45da-da94-45f6a01d5b33"
      },
      "execution_count": 2,
      "outputs": [
        {
          "output_type": "display_data",
          "data": {
            "text/plain": [
              "<Figure size 1000x400 with 10 Axes>"
            ],
            "image/png": "[encoded data removed]"
          },
          "metadata": {}
        }
      ]
    },
    {
      "cell_type": "code",
      "source": [
        "!pip install xgboost"
      ],
      "metadata": {
        "colab": {
          "base_uri": "https://localhost:8080/"
        },
        "id": "uYxh4z8q0e6a",
        "outputId": "11f69215-ca41-4e21-f93f-7b5da9c0f19e"
      },
      "execution_count": 3,
      "outputs": [
        {
          "output_type": "stream",
          "name": "stdout",
          "text": [
            "Requirement already satisfied: xgboost in /usr/local/lib/python3.10/dist-packages (1.7.6)\n",
            "Requirement already satisfied: numpy in /usr/local/lib/python3.10/dist-packages (from xgboost) (1.22.4)\n",
            "Requirement already satisfied: scipy in /usr/local/lib/python3.10/dist-packages (from xgboost) (1.10.1)\n"
          ]
        }
      ]
    },
    {
      "cell_type": "code",
      "source": [
        "# Modelos (AdaBoost, XGBoost y Regresion Logistica)\n",
        "\n",
        "# Importamos las bibliotecas necesarias\n",
        "from sklearn.datasets import load_digits\n",
        "from sklearn.linear_model import LogisticRegression\n",
        "from sklearn.ensemble import AdaBoostClassifier\n",
        "from xgboost import XGBClassifier\n",
        "from sklearn.model_selection import train_test_split\n",
        "from sklearn.metrics import accuracy_score\n",
        "\n",
        "# Cargamos el conjunto de datos de digitos escritos a mano\n",
        "digits = load_digits()\n",
        "X = digits.data\n",
        "y = digits.target\n",
        "\n",
        "# Dividimos el conjunto de datos en entrenamiento y prueba\n",
        "X_train, X_test, y_train, y_test = train_test_split(X, y, test_size=0.2, random_state=42)\n",
        "\n",
        "# Creamos y ajustamos el modelo de línea base (Regresión Logistica) con un número maximo de iteraciones mayor\n",
        "model_baseline = LogisticRegression(max_iter=1000)\n",
        "model_baseline.fit(X_train, y_train)\n",
        "\n",
        "# Predecimos con el modelo de linea base\n",
        "y_pred_baseline = model_baseline.predict(X_test)\n",
        "\n",
        "# Creamos y ajustamos el modelo de AdaBoost\n",
        "model_adaboost = AdaBoostClassifier()\n",
        "model_adaboost.fit(X_train, y_train)\n",
        "\n",
        "# Predecimos con el modelo de AdaBoost\n",
        "y_pred_adaboost = model_adaboost.predict(X_test)\n",
        "\n",
        "# Creamos y ajustamos el modelo de XGBoost\n",
        "model_xgboost = XGBClassifier()\n",
        "model_xgboost.fit(X_train, y_train)\n",
        "\n",
        "# Predecimos con el modelo de XGBoost\n",
        "y_pred_xgboost = model_xgboost.predict(X_test)\n",
        "\n",
        "# Calculamos la precision del modelo de línea base\n",
        "accuracy_baseline = accuracy_score(y_test, y_pred_baseline)\n",
        "print(\"Precisión del modelo de línea base:\", accuracy_baseline)\n",
        "\n",
        "# Calculamos la precision del modelo de AdaBoost\n",
        "accuracy_adaboost = accuracy_score(y_test, y_pred_adaboost)\n",
        "print(\"Precisión del modelo de AdaBoost:\", accuracy_adaboost)\n",
        "\n",
        "# Calculamos la precision del modelo de XGBoost\n",
        "accuracy_xgboost = accuracy_score(y_test, y_pred_xgboost)\n",
        "print(\"Precisión del modelo de XGBoost:\", accuracy_xgboost)\n",
        "\n",
        "# Compararamos resultados con la línea base y XGBoost\n",
        "print(\"Comparación con la línea base y XGBoost:\")\n",
        "print(\"Diferencia de precisión con AdaBoost:\", accuracy_adaboost - accuracy_baseline)\n",
        "print(\"Diferencia de precisión con XGBoost:\", accuracy_xgboost - accuracy_baseline)"
      ],
      "metadata": {
        "colab": {
          "base_uri": "https://localhost:8080/"
        },
        "id": "UaZLkCNA0h0Q",
        "outputId": "844394d9-fd3e-4ac5-9c25-2bca2a0d4d5a"
      },
      "execution_count": 4,
      "outputs": [
        {
          "output_type": "stream",
          "name": "stderr",
          "text": [
            "/usr/local/lib/python3.10/dist-packages/sklearn/linear_model/_logistic.py:458: ConvergenceWarning: lbfgs failed to converge (status=1):\n",
            "STOP: TOTAL NO. of ITERATIONS REACHED LIMIT.\n",
            "\n",
            "Increase the number of iterations (max_iter) or scale the data as shown in:\n",
            "    https://scikit-learn.org/stable/modules/preprocessing.html\n",
            "Please also refer to the documentation for alternative solver options:\n",
            "    https://scikit-learn.org/stable/modules/linear_model.html#logistic-regression\n",
            "  n_iter_i = _check_optimize_result(\n"
          ]
        },
        {
          "output_type": "stream",
          "name": "stdout",
          "text": [
            "Precisión del modelo de línea base: 0.9722222222222222\n",
            "Precisión del modelo de AdaBoost: 0.21944444444444444\n",
            "Precisión del modelo de XGBoost: 0.9694444444444444\n",
            "Comparación con la línea base y XGBoost:\n",
            "Diferencia de precisión con AdaBoost: -0.7527777777777778\n",
            "Diferencia de precisión con XGBoost: -0.002777777777777768\n"
          ]
        }
      ]
    }
  ]
}