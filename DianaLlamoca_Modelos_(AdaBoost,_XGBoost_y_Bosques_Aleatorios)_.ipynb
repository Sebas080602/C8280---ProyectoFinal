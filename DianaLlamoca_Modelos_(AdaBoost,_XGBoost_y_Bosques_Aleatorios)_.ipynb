{
  "nbformat": 4,
  "nbformat_minor": 0,
  "metadata": {
    "colab": {
      "provenance": []
    },
    "kernelspec": {
      "name": "python3",
      "display_name": "Python 3"
    },
    "language_info": {
      "name": "python"
    }
  },
  "cells": [
    {
      "cell_type": "markdown",
      "source": [
        "Parte 2 - Modelos (AdaBoost, XGBoost y Bosques Aleatorios)"
      ],
      "metadata": {
        "id": "Xsj3K11y4_ZY"
      }
    },
    {
      "cell_type": "markdown",
      "source": [
        "Diana Marysabell Llamoca Zárate"
      ],
      "metadata": {
        "id": "DoRD6WaH5gQh"
      }
    },
    {
      "cell_type": "code",
      "source": [
        "pip install matplotlib"
      ],
      "metadata": {
        "colab": {
          "base_uri": "https://localhost:8080/"
        },
        "id": "rRNnCkaQ2TYR",
        "outputId": "451faa14-5924-4b12-f5be-245c58994e25"
      },
      "execution_count": 11,
      "outputs": [
        {
          "output_type": "stream",
          "name": "stdout",
          "text": [
            "Requirement already satisfied: matplotlib in /usr/local/lib/python3.10/dist-packages (3.7.1)\n",
            "Requirement already satisfied: contourpy>=1.0.1 in /usr/local/lib/python3.10/dist-packages (from matplotlib) (1.1.0)\n",
            "Requirement already satisfied: cycler>=0.10 in /usr/local/lib/python3.10/dist-packages (from matplotlib) (0.11.0)\n",
            "Requirement already satisfied: fonttools>=4.22.0 in /usr/local/lib/python3.10/dist-packages (from matplotlib) (4.40.0)\n",
            "Requirement already satisfied: kiwisolver>=1.0.1 in /usr/local/lib/python3.10/dist-packages (from matplotlib) (1.4.4)\n",
            "Requirement already satisfied: numpy>=1.20 in /usr/local/lib/python3.10/dist-packages (from matplotlib) (1.22.4)\n",
            "Requirement already satisfied: packaging>=20.0 in /usr/local/lib/python3.10/dist-packages (from matplotlib) (23.1)\n",
            "Requirement already satisfied: pillow>=6.2.0 in /usr/local/lib/python3.10/dist-packages (from matplotlib) (8.4.0)\n",
            "Requirement already satisfied: pyparsing>=2.3.1 in /usr/local/lib/python3.10/dist-packages (from matplotlib) (3.1.0)\n",
            "Requirement already satisfied: python-dateutil>=2.7 in /usr/local/lib/python3.10/dist-packages (from matplotlib) (2.8.2)\n",
            "Requirement already satisfied: six>=1.5 in /usr/local/lib/python3.10/dist-packages (from python-dateutil>=2.7->matplotlib) (1.16.0)\n"
          ]
        }
      ]
    },
    {
      "cell_type": "code",
      "source": [
        "!pip install xgboost"
      ],
      "metadata": {
        "colab": {
          "base_uri": "https://localhost:8080/"
        },
        "id": "AcgBJjqA2Xfj",
        "outputId": "d53bf9ec-465c-4bbe-f6d0-59249d80087e"
      },
      "execution_count": 9,
      "outputs": [
        {
          "output_type": "stream",
          "name": "stdout",
          "text": [
            "Requirement already satisfied: xgboost in /usr/local/lib/python3.10/dist-packages (1.7.6)\n",
            "Requirement already satisfied: numpy in /usr/local/lib/python3.10/dist-packages (from xgboost) (1.22.4)\n",
            "Requirement already satisfied: scipy in /usr/local/lib/python3.10/dist-packages (from xgboost) (1.10.1)\n"
          ]
        }
      ]
    },
    {
      "cell_type": "code",
      "execution_count": 10,
      "metadata": {
        "colab": {
          "base_uri": "https://localhost:8080/"
        },
        "id": "fa5EYXNszIQr",
        "outputId": "0da71cd9-eb4e-4206-95fb-f8aedfcaea2f"
      },
      "outputs": [
        {
          "output_type": "stream",
          "name": "stdout",
          "text": [
            "Precisión del modelo de Bosques Aleatorios: 0.9722222222222222\n",
            "Precisión del modelo de AdaBoost: 0.21944444444444444\n",
            "Precisión del modelo de XGBoost: 0.9694444444444444\n",
            "Comparación con Bosques Aleatorios y XGBoost:\n",
            "Diferencia de precisión con AdaBoost: -0.7527777777777778\n",
            "Diferencia de precisión con XGBoost: -0.002777777777777768\n"
          ]
        }
      ],
      "source": [
        "\n",
        "\n",
        "# Modelos (AdaBoost, XGBoost y Bosques Aleatorios)\n",
        "\n",
        "# Importamos las bibliotecas necesarias\n",
        "from sklearn.datasets import load_digits\n",
        "from sklearn.ensemble import RandomForestClassifier, AdaBoostClassifier\n",
        "from xgboost import XGBClassifier\n",
        "from sklearn.model_selection import train_test_split\n",
        "from sklearn.metrics import accuracy_score\n",
        "\n",
        "# Cargamos el conjunto de datos de digitos escritos a mano\n",
        "digits = load_digits()\n",
        "X = digits.data\n",
        "y = digits.target\n",
        "\n",
        "# Dividimos el conjunto de datos en entrenamiento y prueba\n",
        "X_train, X_test, y_train, y_test = train_test_split(X, y, test_size=0.2, random_state=42)\n",
        "\n",
        "# Creamos y ajustamos el modelo de Bosques Aleatorios\n",
        "model_random_forest = RandomForestClassifier()\n",
        "model_random_forest.fit(X_train, y_train)\n",
        "\n",
        "# Predecimos con el modelo de Bosques Aleatorios\n",
        "y_pred_random_forest = model_random_forest.predict(X_test)\n",
        "\n",
        "# Creamos y ajustamos el modelo de AdaBoost\n",
        "model_adaboost = AdaBoostClassifier()\n",
        "model_adaboost.fit(X_train, y_train)\n",
        "\n",
        "# Predecimos con el modelo de AdaBoost\n",
        "y_pred_adaboost = model_adaboost.predict(X_test)\n",
        "\n",
        "# Creamos y ajustamos el modelo de XGBoost\n",
        "model_xgboost = XGBClassifier()\n",
        "model_xgboost.fit(X_train, y_train)\n",
        "\n",
        "# Predecimos con el modelo de XGBoost\n",
        "y_pred_xgboost = model_xgboost.predict(X_test)\n",
        "\n",
        "# Calculamos la precision del modelo de Bosques Aleatorios\n",
        "accuracy_random_forest = accuracy_score(y_test, y_pred_random_forest)\n",
        "print(\"Precisión del modelo de Bosques Aleatorios:\", accuracy_random_forest)\n",
        "\n",
        "# Calculamos la precision del modelo de AdaBoost\n",
        "accuracy_adaboost = accuracy_score(y_test, y_pred_adaboost)\n",
        "print(\"Precisión del modelo de AdaBoost:\", accuracy_adaboost)\n",
        "\n",
        "# Calculamos la precision del modelo de XGBoost\n",
        "accuracy_xgboost = accuracy_score(y_test, y_pred_xgboost)\n",
        "print(\"Precisión del modelo de XGBoost:\", accuracy_xgboost)\n",
        "\n",
        "# Comparamos resultados con Bosques Aleatorios y XGBoost\n",
        "print(\"Comparación con Bosques Aleatorios y XGBoost:\")\n",
        "print(\"Diferencia de precisión con AdaBoost:\", accuracy_adaboost - accuracy_random_forest)\n",
        "print(\"Diferencia de precisión con XGBoost:\", accuracy_xgboost - accuracy_random_forest)\n",
        "\n"
      ]
    }
  ]
}